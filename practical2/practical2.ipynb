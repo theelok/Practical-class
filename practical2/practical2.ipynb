{
 "cells": [
  {
   "cell_type": "code",
   "execution_count": 29,
   "id": "c1306a1a-78ac-4b50-8086-6a85a3ec1aad",
   "metadata": {},
   "outputs": [
    {
     "name": "stdout",
     "output_type": "stream",
     "text": [
      "+--------------+\n",
      "|LEE CHONG WEI|\n",
      "+--------------+\n"
     ]
    }
   ],
   "source": [
    "print(\"+--------------+\")\n",
    "print(\"|LEE CHONG WEI|\")\n",
    "print(\"+--------------+\")\n"
   ]
  },
  {
   "cell_type": "code",
   "execution_count": null,
   "id": "eafc8acc-877d-41f3-83f4-5ea0224a3e81",
   "metadata": {},
   "outputs": [
    {
     "name": "stdout",
     "output_type": "stream",
     "text": [
      " /////\n",
      "| o o |\n",
      "|  ^  |\n",
      "| [_] |\n",
      " -----\n"
     ]
    }
   ],
   "source": [
    "# Printing the hair\n",
    "print(\" /////\")\n",
    "# Printing the eyes and ears\n",
    "print(\"| o o |\")\n",
    "# Printing the nose\n",
    "print(\"|  ^  |\")\n",
    "# Printing the mouth\n",
    "print(\"| [_] |\")\n",
    "# Chin or neck line\n",
    "print(\" -----\")\n"
   ]
  },
  {
   "cell_type": "code",
   "execution_count": 31,
   "id": "d5708d10-62e1-4896-8d7c-746496e11b4c",
   "metadata": {},
   "outputs": [
    {
     "name": "stdout",
     "output_type": "stream",
     "text": [
      "FFFFFFF  U   U  NN    NN\n",
      "FF       U   U  NNN   NN\n",
      "FFFFFFF  U   U  NN N  NN\n",
      "FF       U   U  NN  N NN\n",
      "FF        UUU   NN   NNN\n"
     ]
    }
   ],
   "source": [
    "print(\"FFFFFFF  U   U  NN    NN\")\n",
    "print(\"FF       U   U  NNN   NN\")\n",
    "print(\"FFFFFFF  U   U  NN N  NN\")\n",
    "print(\"FF       U   U  NN  N NN\")\n",
    "print(\"FF        UUU   NN   NNN\")\n"
   ]
  },
  {
   "cell_type": "code",
   "execution_count": 32,
   "id": "25749812-5b09-4481-97ec-e599edfaadcb",
   "metadata": {},
   "outputs": [
    {
     "name": "stdout",
     "output_type": "stream",
     "text": [
      "+---+---+---+\n",
      "| x |   | o |\n",
      "+---+---+---+\n",
      "|   | x | o |\n",
      "+---+---+---+\n",
      "|   |   | o |\n",
      "+---+---+---+\n"
     ]
    }
   ],
   "source": [
    "print(\"+---+---+---+\")\n",
    "print(\"| x |   | o |\")\n",
    "print(\"+---+---+---+\")\n",
    "print(\"|   | x | o |\")\n",
    "print(\"+---+---+---+\")\n",
    "print(\"|   |   | o |\")\n",
    "print(\"+---+---+---+\")\n"
   ]
  },
  {
   "cell_type": "code",
   "execution_count": 33,
   "id": "d9e256b3-f790-49d4-acfe-583238681c7e",
   "metadata": {},
   "outputs": [
    {
     "name": "stdout",
     "output_type": "stream",
     "text": [
      "x  x^2  x^3\n",
      "1   1    1\n",
      "2   4    8\n",
      "3   9   27\n",
      "4  16   64\n"
     ]
    }
   ],
   "source": [
    "print(\"x  x^2  x^3\")\n",
    "print(\"1   1    1\")\n",
    "print(\"2   4    8\")\n",
    "print(\"3   9   27\")\n",
    "print(\"4  16   64\")\n"
   ]
  },
  {
   "cell_type": "code",
   "execution_count": 38,
   "id": "7c5272ca-9d9f-44a0-a19b-6a863e1d1e17",
   "metadata": {},
   "outputs": [
    {
     "name": "stdout",
     "output_type": "stream",
     "text": [
      "Enter a name: sd\n",
      "Enter an age: asd\n"
     ]
    },
    {
     "name": "stdout",
     "output_type": "stream",
     "text": [
      "sd is asd years old now\n",
      "asd\n"
     ]
    }
   ],
   "source": [
    "name = input(\"Enter a name:\")\n",
    "age = input( \"Enter an age:\") \n",
    "print(name + \" is \" +age+ \" years old now\" ) "
   ]
  },
  {
   "cell_type": "code",
   "execution_count": 41,
   "id": "0513d10c-a327-4552-be49-ec4ab6886670",
   "metadata": {},
   "outputs": [
    {
     "name": "stdout",
     "output_type": "stream",
     "text": [
      "Enter a degree in Celsius 43\n"
     ]
    },
    {
     "name": "stdout",
     "output_type": "stream",
     "text": [
      "43 Celsius is 109.4 Fahrenheit\n"
     ]
    }
   ],
   "source": [
    "Celsius = int(input(\"Enter a degree in Celsius\"))\n",
    "print(str(Celsius) + \" Celsius is \" +str(((9/5)*Celsius + 32)) + \" Fahrenheit\" )"
   ]
  },
  {
   "cell_type": "code",
   "execution_count": 45,
   "id": "e9328d04-c796-47fa-acc6-d2563514f2dc",
   "metadata": {},
   "outputs": [
    {
     "name": "stdout",
     "output_type": "stream",
     "text": [
      "Enter a radius of a cylinder:  3\n",
      "Enter a height of a cylinder:  5\n"
     ]
    },
    {
     "name": "stdout",
     "output_type": "stream",
     "text": [
      "Its surface area and volumn are 150.79644737231007 and47.12388980384689\n"
     ]
    }
   ],
   "source": [
    "import math\n",
    "PI=math.pi\n",
    "\n",
    "radius = float(input(\"Enter a radius of a cylinder: \"))\n",
    "height = float(input(\"Enter a height of a cylinder: \"))\n",
    "\n",
    "print(\"Its surface area and volumn are \"+ str((2*PI*radius*height)+(2*PI*radius*radius))+\" and\" +str(PI*radius*height) )"
   ]
  },
  {
   "cell_type": "code",
   "execution_count": 51,
   "id": "51a60991-c1c4-4c1b-b0f4-090830938a1d",
   "metadata": {},
   "outputs": [
    {
     "name": "stdout",
     "output_type": "stream",
     "text": [
      "Enter a digit between 0 and 1000:  999\n"
     ]
    },
    {
     "name": "stdout",
     "output_type": "stream",
     "text": [
      "The sum of digit is: 27\n"
     ]
    }
   ],
   "source": [
    "number =int(input(\"Enter a digit between 0 and 1000: \"))\n",
    "divisor =10\n",
    "\n",
    "digit_one= number% divisor \n",
    "number =number // divisor \n",
    "digit_ten = number% divisor \n",
    "number=number// divisor  \n",
    "digit_hundreds=number \n",
    "\n",
    "print(\"The sum of digit is: \" +str((digit_hundreds+digit_ten+digit_one)))"
   ]
  },
  {
   "cell_type": "code",
   "execution_count": 58,
   "id": "6aa0bb29-da96-4d75-8349-cf148fda66d1",
   "metadata": {},
   "outputs": [
    {
     "ename": "TypeError",
     "evalue": "can only concatenate str (not \"int\") to str",
     "output_type": "error",
     "traceback": [
      "\u001b[1;31m---------------------------------------------------------------------------\u001b[0m",
      "\u001b[1;31mTypeError\u001b[0m                                 Traceback (most recent call last)",
      "Cell \u001b[1;32mIn[58], line 11\u001b[0m\n\u001b[0;32m      8\u001b[0m total \u001b[38;5;241m=\u001b[39m(total\u001b[38;5;241m+\u001b[39m base) \u001b[38;5;241m*\u001b[39m(\u001b[38;5;241m1\u001b[39m\u001b[38;5;241m+\u001b[39mmonthly_int)\n\u001b[0;32m      9\u001b[0m total \u001b[38;5;241m=\u001b[39m(total\u001b[38;5;241m+\u001b[39m base) \u001b[38;5;241m*\u001b[39m(\u001b[38;5;241m1\u001b[39m\u001b[38;5;241m+\u001b[39mmonthly_int)\n\u001b[1;32m---> 11\u001b[0m \u001b[38;5;28mprint\u001b[39m(\u001b[38;5;124m\"\u001b[39m\u001b[38;5;124mAfter sex month, the account value is: \u001b[39m\u001b[38;5;124m\"\u001b[39m\u001b[38;5;241m+\u001b[39m\u001b[38;5;28mround\u001b[39m(total))\n",
      "\u001b[1;31mTypeError\u001b[0m: can only concatenate str (not \"int\") to str"
     ]
    }
   ],
   "source": [
    "anually_int =0.05\n",
    "monthly_int =  anually_int/12\n",
    "base=100\n",
    "total = base*(1+monthly_int)\n",
    "total =(total+ base) *(1+monthly_int)\n",
    "total =(total+ base) *(1+monthly_int)\n",
    "total =(total+ base) *(1+monthly_int)\n",
    "total =(total+ base) *(1+monthly_int)\n",
    "total =(total+ base) *(1+monthly_int)\n",
    "\n",
    "print(\"After sex month, the account value is: \"+round(total))"
   ]
  },
  {
   "cell_type": "code",
   "execution_count": 60,
   "id": "6a7d8ea4-4954-46cb-a31e-c50df4ca4f73",
   "metadata": {},
   "outputs": [
    {
     "name": "stdout",
     "output_type": "stream",
     "text": [
      "Equation 1: ax + by = e\n",
      "Equation 2: cx + dy = f\n",
      "\n",
      "Enter a numerical value for each of the following 6 variables:\n"
     ]
    },
    {
     "name": "stdout",
     "output_type": "stream",
     "text": [
      "a =  3.4\n",
      "b =  50.2\n",
      "e =  44.5\n",
      "c =  2.1\n",
      "d =  0.55\n",
      "f =  5.9\n"
     ]
    },
    {
     "name": "stdout",
     "output_type": "stream",
     "text": [
      "\n",
      "Equation 1: 3.4x + 50.2y = 44.5\n",
      "Equation 2: 2.1x + 0.55y = 5.9\n",
      "\n",
      "x = 2.6239\n",
      "y = 0.7087\n"
     ]
    }
   ],
   "source": [
    "# Prompt the user for inputs\n",
    "print(\"Equation 1: ax + by = e\")\n",
    "print(\"Equation 2: cx + dy = f\\n\")\n",
    "\n",
    "print(\"Enter a numerical value for each of the following 6 variables:\")\n",
    "a = float(input(\"a = \"))\n",
    "b = float(input(\"b = \"))\n",
    "e = float(input(\"e = \"))\n",
    "c = float(input(\"c = \"))\n",
    "d = float(input(\"d = \"))\n",
    "f = float(input(\"f = \"))\n",
    "\n",
    "# Display the equations\n",
    "print(f\"\\nEquation 1: {a}x + {b}y = {e}\")\n",
    "print(f\"Equation 2: {c}x + {d}y = {f}\\n\")\n",
    "\n",
    "# Calculate the denominator\n",
    "denominator = a * d - b * c\n",
    "\n",
    "# Check if solution exists (denominator must not be zero)\n",
    "if denominator == 0:\n",
    "    print(\"The equations have no unique solution.\")\n",
    "else:\n",
    "    x = (e * d - b * f) / denominator\n",
    "    y = (a * f - e * c) / denominator\n",
    "\n",
    "    # Print results rounded to 4 decimal places\n",
    "    print(f\"x = {round(x, 4)}\")\n",
    "    print(f\"y = {round(y, 4)}\")\n"
   ]
  },
  {
   "cell_type": "code",
   "execution_count": null,
   "id": "79fd848b-3566-453b-9c9e-98774861e235",
   "metadata": {},
   "outputs": [],
   "source": []
  },
  {
   "cell_type": "code",
   "execution_count": null,
   "id": "9342924a-8983-4d3b-9ac8-741e678adc55",
   "metadata": {},
   "outputs": [],
   "source": []
  }
 ],
 "metadata": {
  "kernelspec": {
   "display_name": "Python 3 (ipykernel)",
   "language": "python",
   "name": "python3"
  },
  "language_info": {
   "codemirror_mode": {
    "name": "ipython",
    "version": 3
   },
   "file_extension": ".py",
   "mimetype": "text/x-python",
   "name": "python",
   "nbconvert_exporter": "python",
   "pygments_lexer": "ipython3",
   "version": "3.12.7"
  }
 },
 "nbformat": 4,
 "nbformat_minor": 5
}
